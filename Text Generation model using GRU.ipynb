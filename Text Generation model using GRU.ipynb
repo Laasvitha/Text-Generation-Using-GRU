{
 "cells": [
  {
   "cell_type": "code",
   "execution_count": 1,
   "id": "135be1b4",
   "metadata": {},
   "outputs": [
    {
     "name": "stdout",
     "output_type": "stream",
     "text": [
      "Requirement already satisfied: tensorflow in c:\\users\\elist\\anaconda3\\lib\\site-packages (2.19.0)\n",
      "Requirement already satisfied: absl-py>=1.0.0 in c:\\users\\elist\\anaconda3\\lib\\site-packages (from tensorflow) (2.1.0)\n",
      "Requirement already satisfied: astunparse>=1.6.0 in c:\\users\\elist\\anaconda3\\lib\\site-packages (from tensorflow) (1.6.3)\n",
      "Requirement already satisfied: flatbuffers>=24.3.25 in c:\\users\\elist\\anaconda3\\lib\\site-packages (from tensorflow) (24.3.25)\n",
      "Requirement already satisfied: gast!=0.5.0,!=0.5.1,!=0.5.2,>=0.2.1 in c:\\users\\elist\\anaconda3\\lib\\site-packages (from tensorflow) (0.6.0)\n",
      "Requirement already satisfied: google-pasta>=0.1.1 in c:\\users\\elist\\anaconda3\\lib\\site-packages (from tensorflow) (0.2.0)\n",
      "Requirement already satisfied: libclang>=13.0.0 in c:\\users\\elist\\anaconda3\\lib\\site-packages (from tensorflow) (18.1.1)\n",
      "Requirement already satisfied: opt-einsum>=2.3.2 in c:\\users\\elist\\anaconda3\\lib\\site-packages (from tensorflow) (3.4.0)\n",
      "Requirement already satisfied: packaging in c:\\users\\elist\\anaconda3\\lib\\site-packages (from tensorflow) (23.1)\n",
      "Requirement already satisfied: protobuf!=4.21.0,!=4.21.1,!=4.21.2,!=4.21.3,!=4.21.4,!=4.21.5,<6.0.0dev,>=3.20.3 in c:\\users\\elist\\anaconda3\\lib\\site-packages (from tensorflow) (3.20.3)\n",
      "Requirement already satisfied: requests<3,>=2.21.0 in c:\\users\\elist\\anaconda3\\lib\\site-packages (from tensorflow) (2.32.3)\n",
      "Requirement already satisfied: setuptools in c:\\users\\elist\\anaconda3\\lib\\site-packages (from tensorflow) (68.2.2)\n",
      "Requirement already satisfied: six>=1.12.0 in c:\\users\\elist\\anaconda3\\lib\\site-packages (from tensorflow) (1.16.0)\n",
      "Requirement already satisfied: termcolor>=1.1.0 in c:\\users\\elist\\anaconda3\\lib\\site-packages (from tensorflow) (2.5.0)\n",
      "Requirement already satisfied: typing-extensions>=3.6.6 in c:\\users\\elist\\anaconda3\\lib\\site-packages (from tensorflow) (4.12.2)\n",
      "Requirement already satisfied: wrapt>=1.11.0 in c:\\users\\elist\\anaconda3\\lib\\site-packages (from tensorflow) (1.14.1)\n",
      "Requirement already satisfied: grpcio<2.0,>=1.24.3 in c:\\users\\elist\\anaconda3\\lib\\site-packages (from tensorflow) (1.67.1)\n",
      "Requirement already satisfied: tensorboard~=2.19.0 in c:\\users\\elist\\appdata\\roaming\\python\\python311\\site-packages (from tensorflow) (2.19.0)\n",
      "Requirement already satisfied: keras>=3.5.0 in c:\\users\\elist\\anaconda3\\lib\\site-packages (from tensorflow) (3.10.0)\n",
      "Requirement already satisfied: numpy<2.2.0,>=1.26.0 in c:\\users\\elist\\anaconda3\\lib\\site-packages (from tensorflow) (1.26.4)\n",
      "Requirement already satisfied: h5py>=3.11.0 in c:\\users\\elist\\anaconda3\\lib\\site-packages (from tensorflow) (3.12.1)\n",
      "Requirement already satisfied: ml-dtypes<1.0.0,>=0.5.1 in c:\\users\\elist\\appdata\\roaming\\python\\python311\\site-packages (from tensorflow) (0.5.1)\n",
      "Requirement already satisfied: tensorflow-io-gcs-filesystem>=0.23.1 in c:\\users\\elist\\anaconda3\\lib\\site-packages (from tensorflow) (0.31.0)\n",
      "Requirement already satisfied: wheel<1.0,>=0.23.0 in c:\\users\\elist\\anaconda3\\lib\\site-packages (from astunparse>=1.6.0->tensorflow) (0.41.2)\n",
      "Requirement already satisfied: rich in c:\\users\\elist\\anaconda3\\lib\\site-packages (from keras>=3.5.0->tensorflow) (13.3.5)\n",
      "Requirement already satisfied: namex in c:\\users\\elist\\anaconda3\\lib\\site-packages (from keras>=3.5.0->tensorflow) (0.0.8)\n",
      "Requirement already satisfied: optree in c:\\users\\elist\\anaconda3\\lib\\site-packages (from keras>=3.5.0->tensorflow) (0.13.0)\n",
      "Requirement already satisfied: charset-normalizer<4,>=2 in c:\\users\\elist\\anaconda3\\lib\\site-packages (from requests<3,>=2.21.0->tensorflow) (2.0.4)\n",
      "Requirement already satisfied: idna<4,>=2.5 in c:\\users\\elist\\anaconda3\\lib\\site-packages (from requests<3,>=2.21.0->tensorflow) (3.4)\n",
      "Requirement already satisfied: urllib3<3,>=1.21.1 in c:\\users\\elist\\anaconda3\\lib\\site-packages (from requests<3,>=2.21.0->tensorflow) (2.0.7)\n",
      "Requirement already satisfied: certifi>=2017.4.17 in c:\\users\\elist\\anaconda3\\lib\\site-packages (from requests<3,>=2.21.0->tensorflow) (2024.8.30)\n",
      "Requirement already satisfied: markdown>=2.6.8 in c:\\users\\elist\\anaconda3\\lib\\site-packages (from tensorboard~=2.19.0->tensorflow) (3.4.1)\n",
      "Requirement already satisfied: tensorboard-data-server<0.8.0,>=0.7.0 in c:\\users\\elist\\anaconda3\\lib\\site-packages (from tensorboard~=2.19.0->tensorflow) (0.7.2)\n",
      "Requirement already satisfied: werkzeug>=1.0.1 in c:\\users\\elist\\anaconda3\\lib\\site-packages (from tensorboard~=2.19.0->tensorflow) (2.2.3)\n",
      "Requirement already satisfied: MarkupSafe>=2.1.1 in c:\\users\\elist\\anaconda3\\lib\\site-packages (from werkzeug>=1.0.1->tensorboard~=2.19.0->tensorflow) (2.1.3)\n",
      "Requirement already satisfied: markdown-it-py<3.0.0,>=2.2.0 in c:\\users\\elist\\anaconda3\\lib\\site-packages (from rich->keras>=3.5.0->tensorflow) (2.2.0)\n",
      "Requirement already satisfied: pygments<3.0.0,>=2.13.0 in c:\\users\\elist\\anaconda3\\lib\\site-packages (from rich->keras>=3.5.0->tensorflow) (2.15.1)\n",
      "Requirement already satisfied: mdurl~=0.1 in c:\\users\\elist\\anaconda3\\lib\\site-packages (from markdown-it-py<3.0.0,>=2.2.0->rich->keras>=3.5.0->tensorflow) (0.1.0)\n"
     ]
    }
   ],
   "source": [
    "!pip install tensorflow\n"
   ]
  },
  {
   "cell_type": "code",
   "execution_count": 2,
   "id": "38fda636",
   "metadata": {},
   "outputs": [],
   "source": [
    "import numpy as np\n",
    "import pandas as pd\n",
    "import tensorflow as tf\n",
    "from tensorflow.keras.preprocessing.text import Tokenizer\n",
    "from tensorflow.keras.preprocessing.sequence import pad_sequences\n",
    "from tensorflow.keras.models import Sequential\n",
    "from tensorflow.keras.layers import Embedding, GRU, Dense\n",
    "import matplotlib.pyplot as plt"
   ]
  },
  {
   "cell_type": "code",
   "execution_count": 3,
   "id": "b8319b1d",
   "metadata": {},
   "outputs": [
    {
     "name": "stdout",
     "output_type": "stream",
     "text": [
      "   Dataline      Play  PlayerLinenumber ActSceneLine         Player  \\\n",
      "0         1  Henry IV               NaN          NaN            NaN   \n",
      "1         2  Henry IV               NaN          NaN            NaN   \n",
      "2         3  Henry IV               NaN          NaN            NaN   \n",
      "3         4  Henry IV               1.0        1.1.1  KING HENRY IV   \n",
      "4         5  Henry IV               1.0        1.1.2  KING HENRY IV   \n",
      "\n",
      "                                          PlayerLine  \n",
      "0                                              ACT I  \n",
      "1                       SCENE I. London. The palace.  \n",
      "2  Enter KING HENRY, LORD JOHN OF LANCASTER, the ...  \n",
      "3             So shaken as we are, so wan with care,  \n",
      "4         Find we a time for frighted peace to pant,  \n"
     ]
    }
   ],
   "source": [
    "# Adjust the path if needed\n",
    "csv_path = \"Shakespeare_data.csv\"\n",
    "\n",
    "# Load the CSV (assumes one column with Shakespeare text)\n",
    "df = pd.read_csv(csv_path)\n",
    "df_limited = df.head(1000)\n",
    "# Show sample rows and infer the column name\n",
    "print(df.head())"
   ]
  },
  {
   "cell_type": "code",
   "execution_count": 4,
   "id": "7abc7fbf",
   "metadata": {},
   "outputs": [
    {
     "name": "stdout",
     "output_type": "stream",
     "text": [
      "Columns: Index(['Dataline', 'Play', 'PlayerLinenumber', 'ActSceneLine', 'Player',\n",
      "       'PlayerLine'],\n",
      "      dtype='object')\n"
     ]
    }
   ],
   "source": [
    "print(\"Columns:\", df.columns)"
   ]
  },
  {
   "cell_type": "code",
   "execution_count": 5,
   "id": "6c085606",
   "metadata": {},
   "outputs": [
    {
     "name": "stdout",
     "output_type": "stream",
     "text": [
      "Sample text:\n",
      " ACT I SCENE I. London. The palace. Enter KING HENRY, LORD JOHN OF LANCASTER, the EARL of WESTMORELAND, SIR WALTER BLUNT, and others So shaken as we are, so wan with care, Find we a time for frighted peace to pant, And breathe short-winded accents of new broils To be commenced in strands afar remote. No more the thirsty entrance of this soil Shall daub her lips with her own children's blood, Nor more shall trenching war channel her fields, Nor bruise her flowerets with the armed hoofs Of hostile \n"
     ]
    }
   ],
   "source": [
    "text = \" \".join(df['PlayerLine'].dropna().astype(str))\n",
    "\n",
    "print(\"Sample text:\\n\", text[:500])\n"
   ]
  },
  {
   "cell_type": "code",
   "execution_count": 6,
   "id": "b646aedb",
   "metadata": {},
   "outputs": [],
   "source": [
    "tokenizer = Tokenizer()\n",
    "tokenizer.fit_on_texts([text])\n",
    "total_words = len(tokenizer.word_index) + 1\n"
   ]
  },
  {
   "cell_type": "code",
   "execution_count": 7,
   "id": "4675a4ce",
   "metadata": {},
   "outputs": [],
   "source": [
    "# Use each player line directly\n",
    "input_sequences = []\n",
    "\n",
    "for line in df_limited['PlayerLine'].dropna().astype(str):\n",
    "    token_list = tokenizer.texts_to_sequences([line])[0]\n",
    "    for i in range(1, len(token_list)):\n",
    "        n_gram_seq = token_list[:i+1]\n",
    "        input_sequences.append(n_gram_seq)\n"
   ]
  },
  {
   "cell_type": "code",
   "execution_count": 8,
   "id": "6940bde2",
   "metadata": {},
   "outputs": [],
   "source": [
    "# Pad sequences\n",
    "max_seq_len = max([len(seq) for seq in input_sequences])\n",
    "input_sequences = np.array(pad_sequences(input_sequences, maxlen=max_seq_len, padding='pre'))\n",
    "\n",
    "X = input_sequences[:, :-1]\n",
    "y = tf.keras.utils.to_categorical(input_sequences[:, -1], num_classes=total_words)"
   ]
  },
  {
   "cell_type": "code",
   "execution_count": 9,
   "id": "fe4c6211",
   "metadata": {},
   "outputs": [
    {
     "name": "stderr",
     "output_type": "stream",
     "text": [
      "C:\\Users\\elist\\anaconda3\\Lib\\site-packages\\keras\\src\\layers\\core\\embedding.py:97: UserWarning: Argument `input_length` is deprecated. Just remove it.\n",
      "  warnings.warn(\n"
     ]
    },
    {
     "data": {
      "text/html": [
       "<pre style=\"white-space:pre;overflow-x:auto;line-height:normal;font-family:Menlo,'DejaVu Sans Mono',consolas,'Courier New',monospace\"><span style=\"font-weight: bold\">Model: \"sequential\"</span>\n",
       "</pre>\n"
      ],
      "text/plain": [
       "\u001b[1mModel: \"sequential\"\u001b[0m\n"
      ]
     },
     "metadata": {},
     "output_type": "display_data"
    },
    {
     "data": {
      "text/html": [
       "<pre style=\"white-space:pre;overflow-x:auto;line-height:normal;font-family:Menlo,'DejaVu Sans Mono',consolas,'Courier New',monospace\">┏━━━━━━━━━━━━━━━━━━━━━━━━━━━━━━━━━┳━━━━━━━━━━━━━━━━━━━━━━━━┳━━━━━━━━━━━━━━━┓\n",
       "┃<span style=\"font-weight: bold\"> Layer (type)                    </span>┃<span style=\"font-weight: bold\"> Output Shape           </span>┃<span style=\"font-weight: bold\">       Param # </span>┃\n",
       "┡━━━━━━━━━━━━━━━━━━━━━━━━━━━━━━━━━╇━━━━━━━━━━━━━━━━━━━━━━━━╇━━━━━━━━━━━━━━━┩\n",
       "│ embedding (<span style=\"color: #0087ff; text-decoration-color: #0087ff\">Embedding</span>)           │ ?                      │   <span style=\"color: #00af00; text-decoration-color: #00af00\">0</span> (unbuilt) │\n",
       "├─────────────────────────────────┼────────────────────────┼───────────────┤\n",
       "│ gru (<span style=\"color: #0087ff; text-decoration-color: #0087ff\">GRU</span>)                       │ ?                      │   <span style=\"color: #00af00; text-decoration-color: #00af00\">0</span> (unbuilt) │\n",
       "├─────────────────────────────────┼────────────────────────┼───────────────┤\n",
       "│ dense (<span style=\"color: #0087ff; text-decoration-color: #0087ff\">Dense</span>)                   │ ?                      │   <span style=\"color: #00af00; text-decoration-color: #00af00\">0</span> (unbuilt) │\n",
       "└─────────────────────────────────┴────────────────────────┴───────────────┘\n",
       "</pre>\n"
      ],
      "text/plain": [
       "┏━━━━━━━━━━━━━━━━━━━━━━━━━━━━━━━━━┳━━━━━━━━━━━━━━━━━━━━━━━━┳━━━━━━━━━━━━━━━┓\n",
       "┃\u001b[1m \u001b[0m\u001b[1mLayer (type)                   \u001b[0m\u001b[1m \u001b[0m┃\u001b[1m \u001b[0m\u001b[1mOutput Shape          \u001b[0m\u001b[1m \u001b[0m┃\u001b[1m \u001b[0m\u001b[1m      Param #\u001b[0m\u001b[1m \u001b[0m┃\n",
       "┡━━━━━━━━━━━━━━━━━━━━━━━━━━━━━━━━━╇━━━━━━━━━━━━━━━━━━━━━━━━╇━━━━━━━━━━━━━━━┩\n",
       "│ embedding (\u001b[38;5;33mEmbedding\u001b[0m)           │ ?                      │   \u001b[38;5;34m0\u001b[0m (unbuilt) │\n",
       "├─────────────────────────────────┼────────────────────────┼───────────────┤\n",
       "│ gru (\u001b[38;5;33mGRU\u001b[0m)                       │ ?                      │   \u001b[38;5;34m0\u001b[0m (unbuilt) │\n",
       "├─────────────────────────────────┼────────────────────────┼───────────────┤\n",
       "│ dense (\u001b[38;5;33mDense\u001b[0m)                   │ ?                      │   \u001b[38;5;34m0\u001b[0m (unbuilt) │\n",
       "└─────────────────────────────────┴────────────────────────┴───────────────┘\n"
      ]
     },
     "metadata": {},
     "output_type": "display_data"
    },
    {
     "data": {
      "text/html": [
       "<pre style=\"white-space:pre;overflow-x:auto;line-height:normal;font-family:Menlo,'DejaVu Sans Mono',consolas,'Courier New',monospace\"><span style=\"font-weight: bold\"> Total params: </span><span style=\"color: #00af00; text-decoration-color: #00af00\">0</span> (0.00 B)\n",
       "</pre>\n"
      ],
      "text/plain": [
       "\u001b[1m Total params: \u001b[0m\u001b[38;5;34m0\u001b[0m (0.00 B)\n"
      ]
     },
     "metadata": {},
     "output_type": "display_data"
    },
    {
     "data": {
      "text/html": [
       "<pre style=\"white-space:pre;overflow-x:auto;line-height:normal;font-family:Menlo,'DejaVu Sans Mono',consolas,'Courier New',monospace\"><span style=\"font-weight: bold\"> Trainable params: </span><span style=\"color: #00af00; text-decoration-color: #00af00\">0</span> (0.00 B)\n",
       "</pre>\n"
      ],
      "text/plain": [
       "\u001b[1m Trainable params: \u001b[0m\u001b[38;5;34m0\u001b[0m (0.00 B)\n"
      ]
     },
     "metadata": {},
     "output_type": "display_data"
    },
    {
     "data": {
      "text/html": [
       "<pre style=\"white-space:pre;overflow-x:auto;line-height:normal;font-family:Menlo,'DejaVu Sans Mono',consolas,'Courier New',monospace\"><span style=\"font-weight: bold\"> Non-trainable params: </span><span style=\"color: #00af00; text-decoration-color: #00af00\">0</span> (0.00 B)\n",
       "</pre>\n"
      ],
      "text/plain": [
       "\u001b[1m Non-trainable params: \u001b[0m\u001b[38;5;34m0\u001b[0m (0.00 B)\n"
      ]
     },
     "metadata": {},
     "output_type": "display_data"
    }
   ],
   "source": [
    "model = Sequential()\n",
    "model.add(Embedding(total_words, 100, input_length=max_seq_len-1))\n",
    "model.add(GRU(150))\n",
    "model.add(Dense(total_words, activation='softmax'))\n",
    "\n",
    "model.compile(loss='categorical_crossentropy', optimizer='adam', metrics=['accuracy'])\n",
    "model.summary()\n"
   ]
  },
  {
   "cell_type": "code",
   "execution_count": 17,
   "id": "31157870",
   "metadata": {},
   "outputs": [
    {
     "name": "stdout",
     "output_type": "stream",
     "text": [
      "Epoch 1/30\n",
      "\u001b[1m213/213\u001b[0m \u001b[32m━━━━━━━━━━━━━━━━━━━━\u001b[0m\u001b[37m\u001b[0m \u001b[1m23s\u001b[0m 108ms/step - accuracy: 0.8838 - loss: 0.3790\n",
      "Epoch 2/30\n",
      "\u001b[1m213/213\u001b[0m \u001b[32m━━━━━━━━━━━━━━━━━━━━\u001b[0m\u001b[37m\u001b[0m \u001b[1m23s\u001b[0m 107ms/step - accuracy: 0.8901 - loss: 0.3609\n",
      "Epoch 3/30\n",
      "\u001b[1m213/213\u001b[0m \u001b[32m━━━━━━━━━━━━━━━━━━━━\u001b[0m\u001b[37m\u001b[0m \u001b[1m23s\u001b[0m 106ms/step - accuracy: 0.8900 - loss: 0.3559\n",
      "Epoch 4/30\n",
      "\u001b[1m213/213\u001b[0m \u001b[32m━━━━━━━━━━━━━━━━━━━━\u001b[0m\u001b[37m\u001b[0m \u001b[1m23s\u001b[0m 107ms/step - accuracy: 0.8858 - loss: 0.3660\n",
      "Epoch 5/30\n",
      "\u001b[1m213/213\u001b[0m \u001b[32m━━━━━━━━━━━━━━━━━━━━\u001b[0m\u001b[37m\u001b[0m \u001b[1m22s\u001b[0m 105ms/step - accuracy: 0.8818 - loss: 0.3863\n",
      "Epoch 6/30\n",
      "\u001b[1m213/213\u001b[0m \u001b[32m━━━━━━━━━━━━━━━━━━━━\u001b[0m\u001b[37m\u001b[0m \u001b[1m17s\u001b[0m 80ms/step - accuracy: 0.8980 - loss: 0.3370\n",
      "Epoch 7/30\n",
      "\u001b[1m213/213\u001b[0m \u001b[32m━━━━━━━━━━━━━━━━━━━━\u001b[0m\u001b[37m\u001b[0m \u001b[1m17s\u001b[0m 82ms/step - accuracy: 0.8827 - loss: 0.3703\n",
      "Epoch 8/30\n",
      "\u001b[1m213/213\u001b[0m \u001b[32m━━━━━━━━━━━━━━━━━━━━\u001b[0m\u001b[37m\u001b[0m \u001b[1m17s\u001b[0m 80ms/step - accuracy: 0.8829 - loss: 0.3687\n",
      "Epoch 9/30\n",
      "\u001b[1m213/213\u001b[0m \u001b[32m━━━━━━━━━━━━━━━━━━━━\u001b[0m\u001b[37m\u001b[0m \u001b[1m17s\u001b[0m 78ms/step - accuracy: 0.8848 - loss: 0.3721\n",
      "Epoch 10/30\n",
      "\u001b[1m213/213\u001b[0m \u001b[32m━━━━━━━━━━━━━━━━━━━━\u001b[0m\u001b[37m\u001b[0m \u001b[1m16s\u001b[0m 77ms/step - accuracy: 0.8853 - loss: 0.3602\n",
      "Epoch 11/30\n",
      "\u001b[1m213/213\u001b[0m \u001b[32m━━━━━━━━━━━━━━━━━━━━\u001b[0m\u001b[37m\u001b[0m \u001b[1m17s\u001b[0m 78ms/step - accuracy: 0.8783 - loss: 0.3763\n",
      "Epoch 12/30\n",
      "\u001b[1m213/213\u001b[0m \u001b[32m━━━━━━━━━━━━━━━━━━━━\u001b[0m\u001b[37m\u001b[0m \u001b[1m17s\u001b[0m 78ms/step - accuracy: 0.8861 - loss: 0.3530\n",
      "Epoch 13/30\n",
      "\u001b[1m213/213\u001b[0m \u001b[32m━━━━━━━━━━━━━━━━━━━━\u001b[0m\u001b[37m\u001b[0m \u001b[1m17s\u001b[0m 80ms/step - accuracy: 0.8890 - loss: 0.3500\n",
      "Epoch 14/30\n",
      "\u001b[1m213/213\u001b[0m \u001b[32m━━━━━━━━━━━━━━━━━━━━\u001b[0m\u001b[37m\u001b[0m \u001b[1m16s\u001b[0m 77ms/step - accuracy: 0.8844 - loss: 0.3494\n",
      "Epoch 15/30\n",
      "\u001b[1m213/213\u001b[0m \u001b[32m━━━━━━━━━━━━━━━━━━━━\u001b[0m\u001b[37m\u001b[0m \u001b[1m17s\u001b[0m 78ms/step - accuracy: 0.8833 - loss: 0.3539\n",
      "Epoch 16/30\n",
      "\u001b[1m213/213\u001b[0m \u001b[32m━━━━━━━━━━━━━━━━━━━━\u001b[0m\u001b[37m\u001b[0m \u001b[1m17s\u001b[0m 77ms/step - accuracy: 0.8888 - loss: 0.3471\n",
      "Epoch 17/30\n",
      "\u001b[1m213/213\u001b[0m \u001b[32m━━━━━━━━━━━━━━━━━━━━\u001b[0m\u001b[37m\u001b[0m \u001b[1m16s\u001b[0m 77ms/step - accuracy: 0.8870 - loss: 0.3430\n",
      "Epoch 18/30\n",
      "\u001b[1m213/213\u001b[0m \u001b[32m━━━━━━━━━━━━━━━━━━━━\u001b[0m\u001b[37m\u001b[0m \u001b[1m16s\u001b[0m 77ms/step - accuracy: 0.8857 - loss: 0.3448\n",
      "Epoch 19/30\n",
      "\u001b[1m213/213\u001b[0m \u001b[32m━━━━━━━━━━━━━━━━━━━━\u001b[0m\u001b[37m\u001b[0m \u001b[1m17s\u001b[0m 78ms/step - accuracy: 0.8851 - loss: 0.3491\n",
      "Epoch 20/30\n",
      "\u001b[1m213/213\u001b[0m \u001b[32m━━━━━━━━━━━━━━━━━━━━\u001b[0m\u001b[37m\u001b[0m \u001b[1m16s\u001b[0m 77ms/step - accuracy: 0.8819 - loss: 0.3628\n",
      "Epoch 21/30\n",
      "\u001b[1m213/213\u001b[0m \u001b[32m━━━━━━━━━━━━━━━━━━━━\u001b[0m\u001b[37m\u001b[0m \u001b[1m16s\u001b[0m 77ms/step - accuracy: 0.8824 - loss: 0.3638\n",
      "Epoch 22/30\n",
      "\u001b[1m213/213\u001b[0m \u001b[32m━━━━━━━━━━━━━━━━━━━━\u001b[0m\u001b[37m\u001b[0m \u001b[1m17s\u001b[0m 78ms/step - accuracy: 0.8808 - loss: 0.3663\n",
      "Epoch 23/30\n",
      "\u001b[1m213/213\u001b[0m \u001b[32m━━━━━━━━━━━━━━━━━━━━\u001b[0m\u001b[37m\u001b[0m \u001b[1m17s\u001b[0m 78ms/step - accuracy: 0.8777 - loss: 0.3674\n",
      "Epoch 24/30\n",
      "\u001b[1m213/213\u001b[0m \u001b[32m━━━━━━━━━━━━━━━━━━━━\u001b[0m\u001b[37m\u001b[0m \u001b[1m17s\u001b[0m 78ms/step - accuracy: 0.8842 - loss: 0.3532\n",
      "Epoch 25/30\n",
      "\u001b[1m213/213\u001b[0m \u001b[32m━━━━━━━━━━━━━━━━━━━━\u001b[0m\u001b[37m\u001b[0m \u001b[1m17s\u001b[0m 78ms/step - accuracy: 0.8833 - loss: 0.3474\n",
      "Epoch 26/30\n",
      "\u001b[1m213/213\u001b[0m \u001b[32m━━━━━━━━━━━━━━━━━━━━\u001b[0m\u001b[37m\u001b[0m \u001b[1m17s\u001b[0m 79ms/step - accuracy: 0.8791 - loss: 0.3499\n",
      "Epoch 27/30\n",
      "\u001b[1m213/213\u001b[0m \u001b[32m━━━━━━━━━━━━━━━━━━━━\u001b[0m\u001b[37m\u001b[0m \u001b[1m17s\u001b[0m 79ms/step - accuracy: 0.8845 - loss: 0.3359\n",
      "Epoch 28/30\n",
      "\u001b[1m213/213\u001b[0m \u001b[32m━━━━━━━━━━━━━━━━━━━━\u001b[0m\u001b[37m\u001b[0m \u001b[1m17s\u001b[0m 78ms/step - accuracy: 0.8902 - loss: 0.3374\n",
      "Epoch 29/30\n",
      "\u001b[1m213/213\u001b[0m \u001b[32m━━━━━━━━━━━━━━━━━━━━\u001b[0m\u001b[37m\u001b[0m \u001b[1m17s\u001b[0m 78ms/step - accuracy: 0.8944 - loss: 0.3145\n",
      "Epoch 30/30\n",
      "\u001b[1m213/213\u001b[0m \u001b[32m━━━━━━━━━━━━━━━━━━━━\u001b[0m\u001b[37m\u001b[0m \u001b[1m17s\u001b[0m 79ms/step - accuracy: 0.8868 - loss: 0.3329\n"
     ]
    }
   ],
   "source": [
    "history = model.fit(X, y, epochs=30, verbose=1) #90\n"
   ]
  },
  {
   "cell_type": "code",
   "execution_count": 11,
   "id": "23a5b941",
   "metadata": {},
   "outputs": [
    {
     "name": "stdout",
     "output_type": "stream",
     "text": [
      "To be or not to be saved by the earth i'll be a madcap too sleep if i hang a true man in the hollow bank westmoreland knights heady trembling seven reap'd worms boar's heady worms boar's crop pale douglas' house douglas' while unjointed nephew worms douglas' gallant deaths unjointed seven spear house departure poor poor\n"
     ]
    }
   ],
   "source": [
    "def generate_text(seed_text, next_words=30):\n",
    "    for _ in range(next_words):\n",
    "        token_list = tokenizer.texts_to_sequences([seed_text])[0]\n",
    "        token_list = pad_sequences([token_list], maxlen=max_seq_len-1, padding='pre')\n",
    "        predicted = model.predict(token_list, verbose=0)\n",
    "        output_word = tokenizer.index_word.get(np.argmax(predicted), '')\n",
    "        seed_text += \" \" + output_word\n",
    "    return seed_text\n",
    "\n",
    "print(generate_text(\"To be or not to be\", next_words=50))\n"
   ]
  },
  {
   "cell_type": "code",
   "execution_count": 13,
   "id": "7ef37187",
   "metadata": {},
   "outputs": [
    {
     "name": "stdout",
     "output_type": "stream",
     "text": [
      "will easily be granted you my lord of york commends the plot and the world of honour's tongue to see me not not if thou art king with them puff and confine and talk'd unregister'd by the day form in the east envy shade unbutton nonce and be hanged two and francis razors poor poor poor forgeries barren puff woman conquest poor poor comparative most most fellow cousin gallant most house plague woman gallant gallant pair poor woman woman gallant horse gallant gallant gallant hill banish'd woman from thee lay weasel business true prince henry and poins should be the very\n"
     ]
    }
   ],

     "metadata": {},
     "output_type": "display_data"
    }
   ],
   "source": [
    "plt.plot(history.history['accuracy'], label='Accuracy')\n",
    "plt.plot(history.history['loss'], label='Loss')\n",
    "plt.title('Training Progress')\n",
    "plt.xlabel('Epoch')\n",
    "plt.ylabel('Value')\n",
    "plt.legend()\n",
    "plt.show()\n"
   ]
  },
  {
   "cell_type": "code",
   "execution_count": 19,
   "id": "a91cd0ff",
   "metadata": {},
   "outputs": [
    {
     "data": {
      "image/png": "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",
      "text/plain": [
       "<Figure size 640x480 with 1 Axes>"
      ]
     },
     "metadata": {},
     "output_type": "display_data"
    }
   ],
   "source": [
    "plt.plot(history.history['accuracy'], label='Accuracy')\n",
    "plt.plot(history.history['loss'], label='Loss')\n",
    "plt.title('Training Progress')\n",
    "plt.xlabel('Epoch')\n",
    "plt.ylabel('Value')\n",
    "plt.legend()\n",
    "plt.show()"
   ]
  },
  {
   "cell_type": "code",
   "execution_count": null,
   "id": "d10c13af",
   "metadata": {},
   "outputs": [],
   "source": []
  }
 ],
 "metadata": {
  "kernelspec": {
   "display_name": "Python 3 (ipykernel)",
   "language": "python",
   "name": "python3"
  },
  "language_info": {
   "codemirror_mode": {
    "name": "ipython",
    "version": 3
   },
   "file_extension": ".py",
   "mimetype": "text/x-python",
   "name": "python",
   "nbconvert_exporter": "python",
   "pygments_lexer": "ipython3",
   "version": "3.11.7"
  }
 },
 "nbformat": 4,
 "nbformat_minor": 5
}
